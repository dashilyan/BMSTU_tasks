{
 "cells": [
  {
   "cell_type": "markdown",
   "id": "97bc17d4-51a0-4754-83c6-0f9c869e1221",
   "metadata": {},
   "source": [
    "# Лабораторная работа №2\n",
    "### Обработка пропусков в данных, кодирование категориальных признаков, масштабирование данных.\n",
    "\n",
    "#### Введение\n",
    "В качестве набора данных будем использовать датасет \"HR Dataset\". В датасете содержится информация о сотрудниках компании. \n",
    "Ссылка на датасет: https://www.kaggle.com/datasets/imtiajemon/hr-dataset/data\n",
    "Датасет содержит следующие поля.\n",
    "\n",
    "1. **Employee_ID** - уникальный идентификатор сотрудника\n",
    "2. **Name** - имя сотрудника\n",
    "3. **Gender** - пол сотрудника\n",
    "4. **Department** - отдел, в котором работает сотрудник\n",
    "5. **EducationField** - область образования\n",
    "6. **MaritalStatus** - семейное положение\n",
    "7. **JobRole** - должность\n",
    "8. **JobLevel** - уровень должности\n",
    "9. **Age** - возраст\n",
    "10. **MonthlyIncome** - месячный доход\n",
    "11. **NumCompaniesWorked** - количество компаний, в которых работал сотрудник\n",
    "12. **TotalWorkingYears** - общий стаж работы\n",
    "13. **TrainingTimesLastYear** - количество тренингов за последний год\n",
    "14. **YearsAtCompany** - стаж работы в компании\n",
    "15. **YearsInCurrentRole** - стаж в текущей должности\n",
    "16. **YearsSinceLastPromotion** - лет с последнего повышения\n",
    "17. **YearsWithCurrManager** - лет с текущим менеджером\n",
    "18. **Attrition** - увольнение (целевая переменная)\n",
    "\n",
    "Для выбранного датасета (датасетов) на основе материалов лекции решить следующие задачи:\n",
    "- обработку пропусков в данных;\n",
    "- кодирование категориальных признаков;\n",
    "- масштабирование данных."
   ]
  },
  {
   "cell_type": "markdown",
   "id": "fbe32274-5854-4edf-b00e-b62a6844bdb2",
   "metadata": {
    "id": "fbe32274-5854-4edf-b00e-b62a6844bdb2"
   },
   "source": [
    "# Загрузка данных"
   ]
  },
  {
   "cell_type": "code",
   "execution_count": 1,
   "id": "34dd9770-8f85-4974-91f4-4fa613613283",
   "metadata": {},
   "outputs": [
    {
     "name": "stdout",
     "output_type": "stream",
     "text": [
      "   EmpID  Age AgeGroup Attrition     BusinessTravel              Department  \\\n",
      "0  RM297   18    18-25       Yes      Travel_Rarely  Research & Development   \n",
      "1  RM302   18    18-25        No      Travel_Rarely                   Sales   \n",
      "2  RM458   18    18-25       Yes  Travel_Frequently                   Sales   \n",
      "3  RM728   18    18-25        No         Non_Travel  Research & Development   \n",
      "4  RM829   18    18-25       Yes         Non_Travel  Research & Development   \n",
      "\n",
      "   DistanceFromHome EducationField EnvironmentSatisfaction  Gender  ...  \\\n",
      "0                 3  Life Sciences                 Average    Male  ...   \n",
      "1                10        Medical                    Good  Female  ...   \n",
      "2                 5      Marketing                    Poor    Male  ...   \n",
      "3                 5  Life Sciences                    Poor    Male  ...   \n",
      "4                 8        Medical                 Average    Male  ...   \n",
      "\n",
      "   MonthlyIncome Over18 OverTime PercentSalaryHike  PerformanceRating  \\\n",
      "0           1420      Y       No                13            Average   \n",
      "1           1200      Y       No                12            Average   \n",
      "2           1878      Y      Yes                14            Average   \n",
      "3           1051      Y       No                15            Average   \n",
      "4           1904      Y       No                12            Average   \n",
      "\n",
      "  TotalWorkingYears YearsAtCompany  YearsInCurrentRole  \\\n",
      "0                 0              0                   0   \n",
      "1                 0              0                   0   \n",
      "2                 0              0                   0   \n",
      "3                 0              0                   0   \n",
      "4                 0              0                   0   \n",
      "\n",
      "  YearsSinceLastPromotion  YearsWithCurrManager  \n",
      "0                       0                   0.0  \n",
      "1                       0                   0.0  \n",
      "2                       0                   0.0  \n",
      "3                       0                   0.0  \n",
      "4                       0                   0.0  \n",
      "\n",
      "[5 rows x 24 columns]\n",
      "\n",
      "Информация о данных:\n",
      "<class 'pandas.core.frame.DataFrame'>\n",
      "RangeIndex: 1473 entries, 0 to 1472\n",
      "Data columns (total 24 columns):\n",
      " #   Column                   Non-Null Count  Dtype  \n",
      "---  ------                   --------------  -----  \n",
      " 0   EmpID                    1473 non-null   object \n",
      " 1   Age                      1473 non-null   int64  \n",
      " 2   AgeGroup                 1473 non-null   object \n",
      " 3   Attrition                1473 non-null   object \n",
      " 4   BusinessTravel           1473 non-null   object \n",
      " 5   Department               1473 non-null   object \n",
      " 6   DistanceFromHome         1473 non-null   int64  \n",
      " 7   EducationField           1473 non-null   object \n",
      " 8   EnvironmentSatisfaction  1473 non-null   object \n",
      " 9   Gender                   1473 non-null   object \n",
      " 10  JobLevel                 1473 non-null   int64  \n",
      " 11  JobRole                  1473 non-null   object \n",
      " 12  JobSatisfaction          1473 non-null   object \n",
      " 13  MaritalStatus            1473 non-null   object \n",
      " 14  MonthlyIncome            1473 non-null   int64  \n",
      " 15  Over18                   1473 non-null   object \n",
      " 16  OverTime                 1473 non-null   object \n",
      " 17  PercentSalaryHike        1473 non-null   int64  \n",
      " 18  PerformanceRating        1473 non-null   object \n",
      " 19  TotalWorkingYears        1473 non-null   int64  \n",
      " 20  YearsAtCompany           1473 non-null   int64  \n",
      " 21  YearsInCurrentRole       1473 non-null   int64  \n",
      " 22  YearsSinceLastPromotion  1473 non-null   int64  \n",
      " 23  YearsWithCurrManager     1473 non-null   float64\n",
      "dtypes: float64(1), int64(9), object(14)\n",
      "memory usage: 276.3+ KB\n",
      "None\n",
      "\n",
      "Пропуски в данных:\n",
      "EmpID                      0\n",
      "Age                        0\n",
      "AgeGroup                   0\n",
      "Attrition                  0\n",
      "BusinessTravel             0\n",
      "Department                 0\n",
      "DistanceFromHome           0\n",
      "EducationField             0\n",
      "EnvironmentSatisfaction    0\n",
      "Gender                     0\n",
      "JobLevel                   0\n",
      "JobRole                    0\n",
      "JobSatisfaction            0\n",
      "MaritalStatus              0\n",
      "MonthlyIncome              0\n",
      "Over18                     0\n",
      "OverTime                   0\n",
      "PercentSalaryHike          0\n",
      "PerformanceRating          0\n",
      "TotalWorkingYears          0\n",
      "YearsAtCompany             0\n",
      "YearsInCurrentRole         0\n",
      "YearsSinceLastPromotion    0\n",
      "YearsWithCurrManager       0\n",
      "dtype: int64\n"
     ]
    }
   ],
   "source": [
    "import pandas as pd\n",
    "import numpy as np\n",
    "from sklearn.preprocessing import LabelEncoder, OneHotEncoder, StandardScaler\n",
    "\n",
    "# Загрузка данных\n",
    "df = pd.read_csv('HR_Data.csv')\n",
    "print(df.head())\n",
    "print(\"\\nИнформация о данных:\")\n",
    "print(df.info())\n",
    "print(\"\\nПропуски в данных:\")\n",
    "print(df.isnull().sum())"
   ]
  },
  {
   "cell_type": "markdown",
   "id": "9448e115-467c-4d9b-9bf3-22b8c0e5d5f5",
   "metadata": {},
   "source": [
    "# Обработка пропусков"
   ]
  },
  {
   "cell_type": "code",
   "execution_count": 2,
   "id": "f3a54085-edeb-4b71-9c28-ca58d9a4a174",
   "metadata": {},
   "outputs": [
    {
     "name": "stdout",
     "output_type": "stream",
     "text": [
      "\n",
      "=== Пропуски после обработки ===\n",
      "EmpID                      0\n",
      "Age                        0\n",
      "AgeGroup                   0\n",
      "Attrition                  0\n",
      "BusinessTravel             0\n",
      "Department                 0\n",
      "DistanceFromHome           0\n",
      "EducationField             0\n",
      "EnvironmentSatisfaction    0\n",
      "Gender                     0\n",
      "JobLevel                   0\n",
      "JobRole                    0\n",
      "JobSatisfaction            0\n",
      "MaritalStatus              0\n",
      "MonthlyIncome              0\n",
      "Over18                     0\n",
      "OverTime                   0\n",
      "PercentSalaryHike          0\n",
      "PerformanceRating          0\n",
      "TotalWorkingYears          0\n",
      "YearsAtCompany             0\n",
      "YearsInCurrentRole         0\n",
      "YearsSinceLastPromotion    0\n",
      "YearsWithCurrManager       0\n",
      "dtype: int64\n"
     ]
    }
   ],
   "source": [
    "# Заполнение пропусков (как в предыдущем коде)\n",
    "categorical_cols = df.select_dtypes(include=['object']).columns\n",
    "for col in categorical_cols:\n",
    "    df[col] = df[col].fillna(df[col].mode()[0])\n",
    "\n",
    "numeric_cols = df.select_dtypes(include=['int64', 'float64']).columns\n",
    "for col in numeric_cols:\n",
    "    df[col] = df[col].fillna(df[col].median())\n",
    "\n",
    "# Проверка пропусков после обработки\n",
    "print(\"\\n=== Пропуски после обработки ===\")\n",
    "print(df.isnull().sum())"
   ]
  },
  {
   "cell_type": "markdown",
   "id": "d7aaa61d-4c7d-4c4c-b552-ac568476ceb8",
   "metadata": {},
   "source": [
    "# Кодирование категориальных признаков"
   ]
  },
  {
   "cell_type": "code",
   "execution_count": 3,
   "id": "ef7e498a-052c-4b61-8664-b3f71563dccf",
   "metadata": {},
   "outputs": [
    {
     "name": "stdout",
     "output_type": "stream",
     "text": [
      "\n",
      "Данные после кодирования:\n",
      "   EmpID  Age AgeGroup Attrition     BusinessTravel  DistanceFromHome  \\\n",
      "0  RM297   18    18-25       Yes      Travel_Rarely                 3   \n",
      "1  RM302   18    18-25        No      Travel_Rarely                10   \n",
      "2  RM458   18    18-25       Yes  Travel_Frequently                 5   \n",
      "3  RM728   18    18-25        No         Non_Travel                 5   \n",
      "4  RM829   18    18-25       Yes         Non_Travel                 8   \n",
      "\n",
      "  EducationField EnvironmentSatisfaction  JobLevel                JobRole  \\\n",
      "0  Life Sciences                 Average         0  Laboratory Technician   \n",
      "1        Medical                    Good         0   Sales Representative   \n",
      "2      Marketing                    Poor         0   Sales Representative   \n",
      "3  Life Sciences                    Poor         0     Research Scientist   \n",
      "4        Medical                 Average         0  Laboratory Technician   \n",
      "\n",
      "   ... TotalWorkingYears  YearsAtCompany YearsInCurrentRole  \\\n",
      "0  ...                 0               0                  0   \n",
      "1  ...                 0               0                  0   \n",
      "2  ...                 0               0                  0   \n",
      "3  ...                 0               0                  0   \n",
      "4  ...                 0               0                  0   \n",
      "\n",
      "  YearsSinceLastPromotion  YearsWithCurrManager  \\\n",
      "0                       0                   0.0   \n",
      "1                       0                   0.0   \n",
      "2                       0                   0.0   \n",
      "3                       0                   0.0   \n",
      "4                       0                   0.0   \n",
      "\n",
      "   Department_Research & Development  Department_Sales  Gender_Male  \\\n",
      "0                               True             False         True   \n",
      "1                              False              True        False   \n",
      "2                              False              True         True   \n",
      "3                               True             False         True   \n",
      "4                               True             False         True   \n",
      "\n",
      "   MaritalStatus_Married  MaritalStatus_Single  \n",
      "0                  False                  True  \n",
      "1                  False                  True  \n",
      "2                  False                  True  \n",
      "3                  False                  True  \n",
      "4                  False                  True  \n",
      "\n",
      "[5 rows x 26 columns]\n"
     ]
    }
   ],
   "source": [
    "# Label Encoding для признаков с порядковой зависимостью (если есть)\n",
    "label_encoder = LabelEncoder()\n",
    "ordinal_cols = ['JobLevel', 'PerformanceRating']  # Пример\n",
    "for col in ordinal_cols:\n",
    "    df[col] = label_encoder.fit_transform(df[col])\n",
    "\n",
    "# One-Hot Encoding для номинальных признаков\n",
    "nominal_cols = ['Department', 'Gender', 'MaritalStatus']  # Пример\n",
    "df = pd.get_dummies(df, columns=nominal_cols, drop_first=True)  # drop_first для избежания дамми-ловушки\n",
    "\n",
    "print(\"\\nДанные после кодирования:\")\n",
    "print(df.head())"
   ]
  },
  {
   "cell_type": "markdown",
   "id": "effc6d55-f43c-479a-8bcf-f488951a55cb",
   "metadata": {},
   "source": [
    "# Масштабирование данных"
   ]
  },
  {
   "cell_type": "code",
   "execution_count": 4,
   "id": "6582dbbd-0af1-42f6-bde8-913493fbf7ac",
   "metadata": {},
   "outputs": [
    {
     "name": "stdout",
     "output_type": "stream",
     "text": [
      "\n",
      "Данные после масштабирования:\n",
      "        Age  MonthlyIncome  TotalWorkingYears  YearsAtCompany\n",
      "0 -2.072527      -1.079876          -1.450767       -1.144768\n",
      "1 -2.072527      -1.126640          -1.450767       -1.144768\n",
      "2 -2.072527      -0.982521          -1.450767       -1.144768\n",
      "3 -2.072527      -1.158312          -1.450767       -1.144768\n",
      "4 -2.072527      -0.976995          -1.450767       -1.144768\n"
     ]
    }
   ],
   "source": [
    "# Выбор числовых признаков для масштабирования\n",
    "numeric_features = ['Age', 'MonthlyIncome', 'TotalWorkingYears', 'YearsAtCompany']\n",
    "scaler = StandardScaler()\n",
    "df[numeric_features] = scaler.fit_transform(df[numeric_features])\n",
    "\n",
    "print(\"\\nДанные после масштабирования:\")\n",
    "print(df[numeric_features].head())"
   ]
  }
 ],
 "metadata": {
  "colab": {
   "provenance": []
  },
  "kernelspec": {
   "display_name": "Python 3 (ipykernel)",
   "language": "python",
   "name": "python3"
  },
  "language_info": {
   "codemirror_mode": {
    "name": "ipython",
    "version": 3
   },
   "file_extension": ".py",
   "mimetype": "text/x-python",
   "name": "python",
   "nbconvert_exporter": "python",
   "pygments_lexer": "ipython3",
   "version": "3.11.9"
  }
 },
 "nbformat": 4,
 "nbformat_minor": 5
}
